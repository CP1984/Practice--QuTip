{
 "cells": [
  {
   "cell_type": "code",
   "execution_count": 1,
   "metadata": {},
   "outputs": [],
   "source": [
    "from qutip import *\n",
    "import numpy as np\n",
    "import matplotlib.pyplot as plt"
   ]
  },
  {
   "cell_type": "markdown",
   "metadata": {},
   "source": [
    "# The quantum object class"
   ]
  },
  {
   "cell_type": "code",
   "execution_count": 2,
   "metadata": {},
   "outputs": [
    {
     "data": {
      "text/latex": [
       "Quantum object: dims = [[1], [1]], shape = (1, 1), type = bra\\begin{equation*}\\left(\\begin{array}{*{11}c}0.0\\\\\\end{array}\\right)\\end{equation*}"
      ],
      "text/plain": [
       "Quantum object: dims = [[1], [1]], shape = (1, 1), type = bra\n",
       "Qobj data =\n",
       "[[0.]]"
      ]
     },
     "execution_count": 2,
     "metadata": {},
     "output_type": "execute_result"
    }
   ],
   "source": [
    "Qobj()"
   ]
  },
  {
   "cell_type": "code",
   "execution_count": 3,
   "metadata": {},
   "outputs": [
    {
     "data": {
      "text/latex": [
       "Quantum object: dims = [[5], [1]], shape = (5, 1), type = ket\\begin{equation*}\\left(\\begin{array}{*{11}c}1.0\\\\2.0\\\\3.0\\\\4.0\\\\5.0\\\\\\end{array}\\right)\\end{equation*}"
      ],
      "text/plain": [
       "Quantum object: dims = [[5], [1]], shape = (5, 1), type = ket\n",
       "Qobj data =\n",
       "[[1.]\n",
       " [2.]\n",
       " [3.]\n",
       " [4.]\n",
       " [5.]]"
      ]
     },
     "execution_count": 3,
     "metadata": {},
     "output_type": "execute_result"
    }
   ],
   "source": [
    "Qobj([[1],[2],[3],[4],[5]])"
   ]
  },
  {
   "cell_type": "code",
   "execution_count": 4,
   "metadata": {},
   "outputs": [
    {
     "data": {
      "text/latex": [
       "Quantum object: dims = [[1], [5]], shape = (1, 5), type = bra\\begin{equation*}\\left(\\begin{array}{*{11}c}1.0 & 2.0 & 3.0 & 4.0 & 5.0\\\\\\end{array}\\right)\\end{equation*}"
      ],
      "text/plain": [
       "Quantum object: dims = [[1], [5]], shape = (1, 5), type = bra\n",
       "Qobj data =\n",
       "[[1. 2. 3. 4. 5.]]"
      ]
     },
     "execution_count": 4,
     "metadata": {},
     "output_type": "execute_result"
    }
   ],
   "source": [
    "x = np.array([[1, 2, 3, 4, 5]])\n",
    "Qobj(x)"
   ]
  },
  {
   "cell_type": "code",
   "execution_count": 5,
   "metadata": {},
   "outputs": [
    {
     "data": {
      "text/latex": [
       "Quantum object: dims = [[4], [4]], shape = (4, 4), type = oper, isherm = False\\begin{equation*}\\left(\\begin{array}{*{11}c}0.403 & 0.181 & 0.876 & 0.222\\\\0.638 & 0.582 & 0.401 & 0.550\\\\0.781 & 0.101 & 0.271 & 0.012\\\\0.665 & 0.887 & 0.349 & 0.185\\\\\\end{array}\\right)\\end{equation*}"
      ],
      "text/plain": [
       "Quantum object: dims = [[4], [4]], shape = (4, 4), type = oper, isherm = False\n",
       "Qobj data =\n",
       "[[0.40292085 0.18060621 0.8761674  0.22235786]\n",
       " [0.63829941 0.58167635 0.40106191 0.55008464]\n",
       " [0.78143986 0.10135315 0.27118379 0.01221835]\n",
       " [0.6654232  0.88653624 0.34946045 0.1854181 ]]"
      ]
     },
     "execution_count": 5,
     "metadata": {},
     "output_type": "execute_result"
    }
   ],
   "source": [
    "r = np.random.rand(4, 4)\n",
    "Qobj(r)"
   ]
  },
  {
   "cell_type": "markdown",
   "metadata": {},
   "source": [
    "# States and operators"
   ]
  },
  {
   "cell_type": "code",
   "execution_count": 6,
   "metadata": {},
   "outputs": [
    {
     "data": {
      "text/latex": [
       "Quantum object: dims = [[5], [1]], shape = (5, 1), type = ket\\begin{equation*}\\left(\\begin{array}{*{11}c}0.0\\\\0.0\\\\0.0\\\\1.0\\\\0.0\\\\\\end{array}\\right)\\end{equation*}"
      ],
      "text/plain": [
       "Quantum object: dims = [[5], [1]], shape = (5, 1), type = ket\n",
       "Qobj data =\n",
       "[[0.]\n",
       " [0.]\n",
       " [0.]\n",
       " [1.]\n",
       " [0.]]"
      ]
     },
     "execution_count": 6,
     "metadata": {},
     "output_type": "execute_result"
    }
   ],
   "source": [
    "# Fock state ket vector\n",
    "# basis(N,m)/fock(N,m), N = number of levels in Hilbert space, m = level containing excitation (0 if no m given)\n",
    "basis(5,3)"
   ]
  },
  {
   "cell_type": "code",
   "execution_count": 7,
   "metadata": {},
   "outputs": [
    {
     "data": {
      "text/latex": [
       "Quantum object: dims = [[5], [1]], shape = (5, 1), type = ket\\begin{equation*}\\left(\\begin{array}{*{11}c}0.779\\\\(0.389-0.389j)\\\\-0.275j\\\\(-0.079-0.079j)\\\\-0.043\\\\\\end{array}\\right)\\end{equation*}"
      ],
      "text/plain": [
       "Quantum object: dims = [[5], [1]], shape = (5, 1), type = ket\n",
       "Qobj data =\n",
       "[[ 0.7788017 +0.j        ]\n",
       " [ 0.38939142-0.38939142j]\n",
       " [ 0.        -0.27545895j]\n",
       " [-0.07898617-0.07898617j]\n",
       " [-0.04314271+0.j        ]]"
      ]
     },
     "execution_count": 7,
     "metadata": {},
     "output_type": "execute_result"
    }
   ],
   "source": [
    "# Coherent state\n",
    "# coherent(N,alpha), alpha = complex number (eigenvalue) for requested coherent state\n",
    "coherent(5,0.5-0.5j)"
   ]
  },
  {
   "cell_type": "code",
   "execution_count": 8,
   "metadata": {},
   "outputs": [
    {
     "data": {
      "text/latex": [
       "Quantum object: dims = [[4], [4]], shape = (4, 4), type = oper, isherm = False\\begin{equation*}\\left(\\begin{array}{*{11}c}0.0 & 1.0 & 0.0 & 0.0\\\\0.0 & 0.0 & 1.414 & 0.0\\\\0.0 & 0.0 & 0.0 & 1.732\\\\0.0 & 0.0 & 0.0 & 0.0\\\\\\end{array}\\right)\\end{equation*}"
      ],
      "text/plain": [
       "Quantum object: dims = [[4], [4]], shape = (4, 4), type = oper, isherm = False\n",
       "Qobj data =\n",
       "[[0.         1.         0.         0.        ]\n",
       " [0.         0.         1.41421356 0.        ]\n",
       " [0.         0.         0.         1.73205081]\n",
       " [0.         0.         0.         0.        ]]"
      ]
     },
     "execution_count": 8,
     "metadata": {},
     "output_type": "execute_result"
    }
   ],
   "source": [
    "# Lowering (destruction) operator\n",
    "# destroy(N), N = number of levels in Hilbert space.\n",
    "destroy(4)"
   ]
  },
  {
   "cell_type": "code",
   "execution_count": 9,
   "metadata": {},
   "outputs": [
    {
     "data": {
      "text/latex": [
       "Quantum object: dims = [[2], [2]], shape = (2, 2), type = oper, isherm = True\\begin{equation*}\\left(\\begin{array}{*{11}c}1.0 & 0.0\\\\0.0 & -1.0\\\\\\end{array}\\right)\\end{equation*}"
      ],
      "text/plain": [
       "Quantum object: dims = [[2], [2]], shape = (2, 2), type = oper, isherm = True\n",
       "Qobj data =\n",
       "[[ 1.  0.]\n",
       " [ 0. -1.]]"
      ]
     },
     "execution_count": 9,
     "metadata": {},
     "output_type": "execute_result"
    }
   ],
   "source": [
    "# Pauli Z matrix\n",
    "sigmaz()"
   ]
  },
  {
   "cell_type": "code",
   "execution_count": 10,
   "metadata": {},
   "outputs": [
    {
     "data": {
      "text/latex": [
       "Quantum object: dims = [[6], [6]], shape = (6, 6), type = oper, isherm = False\\begin{equation*}\\left(\\begin{array}{*{11}c}0.0 & 2.236 & 0.0 & 0.0 & 0.0 & 0.0\\\\0.0 & 0.0 & 2.828 & 0.0 & 0.0 & 0.0\\\\0.0 & 0.0 & 0.0 & 3.0 & 0.0 & 0.0\\\\0.0 & 0.0 & 0.0 & 0.0 & 2.828 & 0.0\\\\0.0 & 0.0 & 0.0 & 0.0 & 0.0 & 2.236\\\\0.0 & 0.0 & 0.0 & 0.0 & 0.0 & 0.0\\\\\\end{array}\\right)\\end{equation*}"
      ],
      "text/plain": [
       "Quantum object: dims = [[6], [6]], shape = (6, 6), type = oper, isherm = False\n",
       "Qobj data =\n",
       "[[0.         2.23606798 0.         0.         0.         0.        ]\n",
       " [0.         0.         2.82842712 0.         0.         0.        ]\n",
       " [0.         0.         0.         3.         0.         0.        ]\n",
       " [0.         0.         0.         0.         2.82842712 0.        ]\n",
       " [0.         0.         0.         0.         0.         2.23606798]\n",
       " [0.         0.         0.         0.         0.         0.        ]]"
      ]
     },
     "execution_count": 10,
     "metadata": {},
     "output_type": "execute_result"
    }
   ],
   "source": [
    "# Higher spin operators\n",
    "# jmat(j,s), j = integer or half-integer representing spin, s = ‘x’, ‘y’, ‘z’, ‘+’, or ‘-‘\n",
    "jmat(5/2.0,'+')"
   ]
  },
  {
   "cell_type": "markdown",
   "metadata": {},
   "source": [
    "# Qobj attributes"
   ]
  },
  {
   "cell_type": "code",
   "execution_count": 11,
   "metadata": {},
   "outputs": [],
   "source": [
    "q = destroy(4)"
   ]
  },
  {
   "cell_type": "code",
   "execution_count": 12,
   "metadata": {},
   "outputs": [
    {
     "data": {
      "text/plain": [
       "[[4], [4]]"
      ]
     },
     "execution_count": 12,
     "metadata": {},
     "output_type": "execute_result"
    }
   ],
   "source": [
    "# List keeping track of shapes for individual components of a multipartite system (for tensor products and partial traces).\n",
    "q.dims"
   ]
  },
  {
   "cell_type": "code",
   "execution_count": 13,
   "metadata": {},
   "outputs": [
    {
     "data": {
      "text/plain": [
       "(4, 4)"
      ]
     },
     "execution_count": 13,
     "metadata": {},
     "output_type": "execute_result"
    }
   ],
   "source": [
    "# Dimensions of underlying data matrix.\n",
    "q.shape"
   ]
  },
  {
   "cell_type": "markdown",
   "metadata": {},
   "source": [
    "# Qobj Math"
   ]
  },
  {
   "cell_type": "code",
   "execution_count": 14,
   "metadata": {},
   "outputs": [],
   "source": [
    "q = destroy(4)"
   ]
  },
  {
   "cell_type": "code",
   "execution_count": 15,
   "metadata": {},
   "outputs": [],
   "source": [
    "x = sigmax()"
   ]
  },
  {
   "cell_type": "code",
   "execution_count": 16,
   "metadata": {},
   "outputs": [
    {
     "data": {
      "text/latex": [
       "Quantum object: dims = [[4], [4]], shape = (4, 4), type = oper, isherm = False\\begin{equation*}\\left(\\begin{array}{*{11}c}5.0 & 1.0 & 0.0 & 0.0\\\\0.0 & 5.0 & 1.414 & 0.0\\\\0.0 & 0.0 & 5.0 & 1.732\\\\0.0 & 0.0 & 0.0 & 5.0\\\\\\end{array}\\right)\\end{equation*}"
      ],
      "text/plain": [
       "Quantum object: dims = [[4], [4]], shape = (4, 4), type = oper, isherm = False\n",
       "Qobj data =\n",
       "[[5.         1.         0.         0.        ]\n",
       " [0.         5.         1.41421356 0.        ]\n",
       " [0.         0.         5.         1.73205081]\n",
       " [0.         0.         0.         5.        ]]"
      ]
     },
     "execution_count": 16,
     "metadata": {},
     "output_type": "execute_result"
    }
   ],
   "source": [
    "q + 5"
   ]
  },
  {
   "cell_type": "code",
   "execution_count": 17,
   "metadata": {},
   "outputs": [
    {
     "data": {
      "text/latex": [
       "Quantum object: dims = [[2], [2]], shape = (2, 2), type = oper, isherm = True\\begin{equation*}\\left(\\begin{array}{*{11}c}1.0 & 0.0\\\\0.0 & 1.0\\\\\\end{array}\\right)\\end{equation*}"
      ],
      "text/plain": [
       "Quantum object: dims = [[2], [2]], shape = (2, 2), type = oper, isherm = True\n",
       "Qobj data =\n",
       "[[1. 0.]\n",
       " [0. 1.]]"
      ]
     },
     "execution_count": 17,
     "metadata": {},
     "output_type": "execute_result"
    }
   ],
   "source": [
    "x * x"
   ]
  },
  {
   "cell_type": "code",
   "execution_count": 18,
   "metadata": {},
   "outputs": [
    {
     "data": {
      "text/latex": [
       "Quantum object: dims = [[4], [4]], shape = (4, 4), type = oper, isherm = False\\begin{equation*}\\left(\\begin{array}{*{11}c}0.0 & 0.0 & 0.0 & 2.449\\\\0.0 & 0.0 & 0.0 & 0.0\\\\0.0 & 0.0 & 0.0 & 0.0\\\\0.0 & 0.0 & 0.0 & 0.0\\\\\\end{array}\\right)\\end{equation*}"
      ],
      "text/plain": [
       "Quantum object: dims = [[4], [4]], shape = (4, 4), type = oper, isherm = False\n",
       "Qobj data =\n",
       "[[0.         0.         0.         2.44948974]\n",
       " [0.         0.         0.         0.        ]\n",
       " [0.         0.         0.         0.        ]\n",
       " [0.         0.         0.         0.        ]]"
      ]
     },
     "execution_count": 18,
     "metadata": {},
     "output_type": "execute_result"
    }
   ],
   "source": [
    "q ** 3"
   ]
  },
  {
   "cell_type": "code",
   "execution_count": 19,
   "metadata": {},
   "outputs": [
    {
     "data": {
      "text/latex": [
       "Quantum object: dims = [[2], [2]], shape = (2, 2), type = oper, isherm = True\\begin{equation*}\\left(\\begin{array}{*{11}c}0.0 & 0.707\\\\0.707 & 0.0\\\\\\end{array}\\right)\\end{equation*}"
      ],
      "text/plain": [
       "Quantum object: dims = [[2], [2]], shape = (2, 2), type = oper, isherm = True\n",
       "Qobj data =\n",
       "[[0.         0.70710678]\n",
       " [0.70710678 0.        ]]"
      ]
     },
     "execution_count": 19,
     "metadata": {},
     "output_type": "execute_result"
    }
   ],
   "source": [
    "x / np.sqrt(2)"
   ]
  },
  {
   "cell_type": "markdown",
   "metadata": {},
   "source": [
    "# Functions operating on Qobj class"
   ]
  },
  {
   "cell_type": "code",
   "execution_count": 20,
   "metadata": {},
   "outputs": [
    {
     "data": {
      "text/latex": [
       "Quantum object: dims = [[5], [1]], shape = (5, 1), type = ket\\begin{equation*}\\left(\\begin{array}{*{11}c}0.0\\\\0.0\\\\0.0\\\\1.0\\\\0.0\\\\\\end{array}\\right)\\end{equation*}"
      ],
      "text/plain": [
       "Quantum object: dims = [[5], [1]], shape = (5, 1), type = ket\n",
       "Qobj data =\n",
       "[[0.]\n",
       " [0.]\n",
       " [0.]\n",
       " [1.]\n",
       " [0.]]"
      ]
     },
     "execution_count": 20,
     "metadata": {},
     "output_type": "execute_result"
    }
   ],
   "source": [
    "# Fock state ket vector\n",
    "basis(5, 3)"
   ]
  },
  {
   "cell_type": "code",
   "execution_count": 21,
   "metadata": {},
   "outputs": [
    {
     "data": {
      "text/latex": [
       "Quantum object: dims = [[1], [5]], shape = (1, 5), type = bra\\begin{equation*}\\left(\\begin{array}{*{11}c}0.0 & 0.0 & 0.0 & 1.0 & 0.0\\\\\\end{array}\\right)\\end{equation*}"
      ],
      "text/plain": [
       "Quantum object: dims = [[1], [5]], shape = (1, 5), type = bra\n",
       "Qobj data =\n",
       "[[0. 0. 0. 1. 0.]]"
      ]
     },
     "execution_count": 21,
     "metadata": {},
     "output_type": "execute_result"
    }
   ],
   "source": [
    "# Dagger (adjoint)\n",
    "# Q.dag(), Returns adjoint (dagger) of object.\n",
    "basis(5, 3).dag()"
   ]
  },
  {
   "cell_type": "code",
   "execution_count": 22,
   "metadata": {},
   "outputs": [
    {
     "data": {
      "text/latex": [
       "Quantum object: dims = [[5], [5]], shape = (5, 5), type = oper, isherm = True\\begin{equation*}\\left(\\begin{array}{*{11}c}0.368 & 0.368 & 0.261 & 0.146 & 0.088\\\\0.368 & 0.368 & 0.261 & 0.146 & 0.088\\\\0.261 & 0.261 & 0.185 & 0.104 & 0.063\\\\0.146 & 0.146 & 0.104 & 0.058 & 0.035\\\\0.088 & 0.088 & 0.063 & 0.035 & 0.021\\\\\\end{array}\\right)\\end{equation*}"
      ],
      "text/plain": [
       "Quantum object: dims = [[5], [5]], shape = (5, 5), type = oper, isherm = True\n",
       "Qobj data =\n",
       "[[0.36791117 0.36774407 0.26105441 0.14620658 0.08826704]\n",
       " [0.36774407 0.36757705 0.26093584 0.14614018 0.08822695]\n",
       " [0.26105441 0.26093584 0.18523331 0.10374209 0.06263061]\n",
       " [0.14620658 0.14614018 0.10374209 0.05810197 0.035077  ]\n",
       " [0.08826704 0.08822695 0.06263061 0.035077   0.0211765 ]]"
      ]
     },
     "execution_count": 22,
     "metadata": {},
     "output_type": "execute_result"
    }
   ],
   "source": [
    "# Coherent density matrix (outer product)\n",
    "# coherent_dm(N,alpha), alpha = complex number (eigenvalue) for requested coherent state\n",
    "coherent_dm(5, 1)"
   ]
  },
  {
   "cell_type": "code",
   "execution_count": 23,
   "metadata": {},
   "outputs": [
    {
     "data": {
      "text/plain": [
       "array([0.36791117, 0.36757705, 0.18523331, 0.05810197, 0.0211765 ])"
      ]
     },
     "execution_count": 23,
     "metadata": {},
     "output_type": "execute_result"
    }
   ],
   "source": [
    "# Diagonal\n",
    "# Q.diag(), Returns the diagonal elements.\n",
    "coherent_dm(5, 1).diag()"
   ]
  },
  {
   "cell_type": "code",
   "execution_count": 24,
   "metadata": {},
   "outputs": [
    {
     "data": {
      "text/plain": [
       "array([[0.36791117+0.j, 0.36774407+0.j, 0.26105441+0.j, 0.14620658+0.j,\n",
       "        0.08826704+0.j],\n",
       "       [0.36774407+0.j, 0.36757705+0.j, 0.26093584+0.j, 0.14614018+0.j,\n",
       "        0.08822695+0.j],\n",
       "       [0.26105441+0.j, 0.26093584+0.j, 0.18523331+0.j, 0.10374209+0.j,\n",
       "        0.06263061+0.j],\n",
       "       [0.14620658+0.j, 0.14614018+0.j, 0.10374209+0.j, 0.05810197+0.j,\n",
       "        0.035077  +0.j],\n",
       "       [0.08826704+0.j, 0.08822695+0.j, 0.06263061+0.j, 0.035077  +0.j,\n",
       "        0.0211765 +0.j]])"
      ]
     },
     "execution_count": 24,
     "metadata": {},
     "output_type": "execute_result"
    }
   ],
   "source": [
    "# Full\n",
    "# Q.full(), Returns full (not sparse) array of Q’s data.\n",
    "coherent_dm(5, 1).full()"
   ]
  },
  {
   "cell_type": "code",
   "execution_count": 25,
   "metadata": {},
   "outputs": [
    {
     "data": {
      "text/plain": [
       "1.0000000252077326"
      ]
     },
     "execution_count": 25,
     "metadata": {},
     "output_type": "execute_result"
    }
   ],
   "source": [
    "# Norm\n",
    "# Q.norm(), Returns L2 norm for states, trace norm for operators.\n",
    "coherent_dm(5, 1).norm()"
   ]
  },
  {
   "cell_type": "code",
   "execution_count": 26,
   "metadata": {},
   "outputs": [
    {
     "data": {
      "text/latex": [
       "Quantum object: dims = [[5], [5]], shape = (5, 5), type = oper, isherm = False\\begin{equation*}\\left(\\begin{array}{*{11}c}0.368 & 0.368 & 0.261 & 0.146 & 0.088\\\\0.368 & (0.368+4.239\\times10^{-11}j) & (0.261+1.256\\times10^{-10}j) & (0.146-2.582\\times10^{-10}j) & (0.088-1.203\\times10^{-10}j)\\\\0.261 & (0.261+1.256\\times10^{-10}j) & (0.185+3.719\\times10^{-10}j) & (0.104-7.648\\times10^{-10}j) & (0.063-3.563\\times10^{-10}j)\\\\0.146 & (0.146-2.582\\times10^{-10}j) & (0.104-7.648\\times10^{-10}j) & (0.058+1.573\\times10^{-09}j) & (0.035+7.327\\times10^{-10}j)\\\\0.088 & (0.088-1.203\\times10^{-10}j) & (0.063-3.563\\times10^{-10}j) & (0.035+7.327\\times10^{-10}j) & (0.021+3.414\\times10^{-10}j)\\\\\\end{array}\\right)\\end{equation*}"
      ],
      "text/plain": [
       "Quantum object: dims = [[5], [5]], shape = (5, 5), type = oper, isherm = False\n",
       "Qobj data =\n",
       "[[0.36791119+0.00000000e+00j 0.36774406+0.00000000e+00j\n",
       "  0.2610544 +0.00000000e+00j 0.14620658+0.00000000e+00j\n",
       "  0.08826704+0.00000000e+00j]\n",
       " [0.36774406+0.00000000e+00j 0.36757705+4.23874181e-11j\n",
       "  0.26093584+1.25558676e-10j 0.14614018-2.58178591e-10j\n",
       "  0.08822695-1.20293587e-10j]\n",
       " [0.2610544 +0.00000000e+00j 0.26093584+1.25558676e-10j\n",
       "  0.18523332+3.71925960e-10j 0.10374209-7.64768498e-10j\n",
       "  0.06263061-3.56329879e-10j]\n",
       " [0.14620658+0.00000000e+00j 0.14614018-2.58178591e-10j\n",
       "  0.10374209-7.64768498e-10j 0.05810197+1.57254647e-09j\n",
       "  0.035077  +7.32699235e-10j]\n",
       " [0.08826704+0.00000000e+00j 0.08822695-1.20293587e-10j\n",
       "  0.06263061-3.56329879e-10j 0.035077  +7.32699235e-10j\n",
       "  0.0211765 +3.41387792e-10j]]"
      ]
     },
     "execution_count": 26,
     "metadata": {},
     "output_type": "execute_result"
    }
   ],
   "source": [
    "# Sqrt\n",
    "# Q.sqrtm(), Matrix sqrt of operator.\n",
    "coherent_dm(5, 1).sqrtm()"
   ]
  },
  {
   "cell_type": "code",
   "execution_count": 27,
   "metadata": {},
   "outputs": [
    {
     "data": {
      "text/plain": [
       "1.0"
      ]
     },
     "execution_count": 27,
     "metadata": {},
     "output_type": "execute_result"
    }
   ],
   "source": [
    "# Trace\n",
    "# Q.tr(), Returns trace of quantum object.\n",
    "coherent_dm(5, 1).tr()"
   ]
  },
  {
   "cell_type": "code",
   "execution_count": 28,
   "metadata": {},
   "outputs": [
    {
     "data": {
      "text/latex": [
       "Quantum object: dims = [[4], [1]], shape = (4, 1), type = ket\\begin{equation*}\\left(\\begin{array}{*{11}c}0.0\\\\0.707\\\\0.707\\\\0.0\\\\\\end{array}\\right)\\end{equation*}"
      ],
      "text/plain": [
       "Quantum object: dims = [[4], [1]], shape = (4, 1), type = ket\n",
       "Qobj data =\n",
       "[[0.        ]\n",
       " [0.70710678]\n",
       " [0.70710678]\n",
       " [0.        ]]"
      ]
     },
     "execution_count": 28,
     "metadata": {},
     "output_type": "execute_result"
    }
   ],
   "source": [
    "# Unit\n",
    "# Q.unit(), Returns normalized (unit) vector Q/Q.norm().\n",
    "(basis(4, 2) + basis(4, 1)).unit()"
   ]
  }
 ],
 "metadata": {
  "kernelspec": {
   "display_name": "Python 3",
   "language": "python",
   "name": "python3"
  },
  "language_info": {
   "codemirror_mode": {
    "name": "ipython",
    "version": 3
   },
   "file_extension": ".py",
   "mimetype": "text/x-python",
   "name": "python",
   "nbconvert_exporter": "python",
   "pygments_lexer": "ipython3",
   "version": "3.7.1"
  }
 },
 "nbformat": 4,
 "nbformat_minor": 2
}
